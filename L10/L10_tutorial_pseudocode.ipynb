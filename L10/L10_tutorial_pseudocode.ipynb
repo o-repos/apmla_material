{
 "cells": [
  {
   "cell_type": "code",
   "execution_count": null,
   "metadata": {},
   "outputs": [],
   "source": [
    "import networkx as nx\n",
    "import numpy as np\n",
    "from scipy.spatial import distance\n",
    "import matplotlib.pyplot as plt\n",
    "\n",
    "np.random.seed(67)"
   ]
  },
  {
   "cell_type": "markdown",
   "metadata": {},
   "source": [
    "# Tutorial 10: Belief Propagation for graph coloring"
   ]
  },
  {
   "cell_type": "code",
   "execution_count": null,
   "metadata": {},
   "outputs": [],
   "source": [
    "# Generate graph\n",
    "N, beta, q, c = 100, 2, 3, 5\n",
    "G = nx.erdos_renyi_graph(n=N, p=c/(N-1))\n",
    "G = G.to_directed()\n",
    "\n",
    "theta = 1 - np.exp(-beta)"
   ]
  },
  {
   "cell_type": "code",
   "execution_count": null,
   "metadata": {},
   "outputs": [],
   "source": [
    "# Checking the convergence\n",
    "def convergence(el1, el2, abs_tol):\n",
    "    err = 0\n",
    "    for e in el1:\n",
    "        err +=  # FILL\n",
    "    err /=  # FILL\n",
    "    return(err, err < abs_tol)"
   ]
  },
  {
   "cell_type": "code",
   "execution_count": null,
   "metadata": {},
   "outputs": [],
   "source": [
    "def BP(G, beta, q, init='perturb', update='random', max_it=1000, abs_tol=1e-4, alpha=0.1, report=False):\n",
    "    \n",
    "    # Initialization BP messages\n",
    "    if init == 'perturb':\n",
    "        for e in G.edges():\n",
    "            G.edges()[e]['message_t'] = # FILL\n",
    "            G.edges()[e]['message_t'] = # FILL\n",
    "    elif init == 'random':\n",
    "        for e in G.edges():\n",
    "            G.edges()[e]['message_t'] = # FILL\n",
    "            G.edges()[e]['message_t'] = # FILL\n",
    "    elif init == 'first-color':\n",
    "        for e in G.edges():\n",
    "            G.edges()[e]['message_t'] = # FILL\n",
    "        \n",
    "    # Iterating\n",
    "    conv, it = False, 0\n",
    "    differences = []\n",
    "    \n",
    "    if update=='parallel':\n",
    "        while not conv and it<max_it:\n",
    "            # FILL\n",
    "\n",
    "    elif update=='random':\n",
    "        while not conv and it<max_it\n",
    "            # FILL\n",
    "\n",
    "    if report:\n",
    "        print('Number of iterations: {0}'.format(it))\n",
    "    \n",
    "    return(it, differences)"
   ]
  },
  {
   "cell_type": "markdown",
   "metadata": {},
   "source": [
    "## Point b)"
   ]
  },
  {
   "cell_type": "code",
   "execution_count": null,
   "metadata": {},
   "outputs": [],
   "source": [
    "fig, ax = plt.subplots(1,2, figsize=(12,5))\n",
    "\n",
    "# Parallel update (all messages at once)\n",
    "x, y = BP(G, beta, q, update='parallel', report=True)\n",
    "ax[0].plot(np.arange(x), y)\n",
    "ax[0].set_title('Parallel update', size=16)\n",
    "ax[0].set_xlabel('Number of iterations',size=12)\n",
    "ax[0].set_ylabel('$err$',size=12)\n",
    "\n",
    "# Random update (one by one)\n",
    "x, y = BP(G, beta, q, update='random', report=True)\n",
    "ax[1].plot(np.arange(x), y)\n",
    "ax[1].set_title('Random update', size=16)\n",
    "ax[1].set_xlabel('Number of iterations', size=12)\n",
    "ax[1].set_ylabel('$err$',size=12)\n",
    "\n",
    "plt.savefig('tutorial10_point_b.png')\n",
    "plt.show()"
   ]
  },
  {
   "cell_type": "markdown",
   "metadata": {},
   "source": [
    "## Point c)"
   ]
  },
  {
   "cell_type": "code",
   "execution_count": null,
   "metadata": {},
   "outputs": [],
   "source": [
    "c_choices = np.linspace(2, 7, 50)\n",
    "N_choices = [50, 100, 200]\n",
    "result = np.zeros((len(c_choices),len(N_choices)+1))\n",
    "result[:, 0] = c_choices\n",
    "for j, N in enumerate(N_choices):\n",
    "    print(N)\n",
    "    for i, c in enumerate(c_choices):\n",
    "        iterations = []\n",
    "        for _ in range(5):\n",
    "            # FILL\n",
    "        result[i, j+1] = np.median(iterations)"
   ]
  },
  {
   "cell_type": "code",
   "execution_count": null,
   "metadata": {},
   "outputs": [],
   "source": [
    "plt.figure(figsize=(10,5))\n",
    "for col in range(len(N_choices)):\n",
    "    plt.plot(result[:,0], result[:,col+1], label='N = {0}'.format(N_choices[col]))\n",
    "plt.legend(fontsize=12)\n",
    "plt.xlabel('Average degree $c$', size=12)\n",
    "plt.ylabel('Converge iteration', size=12)\n",
    "plt.savefig('tutorial10_point_c.png')"
   ]
  },
  {
   "cell_type": "markdown",
   "metadata": {},
   "source": [
    "## Point d)"
   ]
  },
  {
   "cell_type": "code",
   "execution_count": null,
   "metadata": {},
   "outputs": [],
   "source": [
    "# Attaching marginal distributions to each node\n",
    "def marginals_one_point(G):\n",
    "    for i in G.nodes():\n",
    "        prod = np.ones(q)\n",
    "        # FILL\n",
    "        G.nodes()[i]['marginal'] = prod\n",
    "        \n",
    "# Assessing the coloring mapping\n",
    "def accuracy(G, colors):\n",
    "    errors = 0\n",
    "    for e in G.edges():\n",
    "        # FILL\n",
    "    return(errors/2)"
   ]
  },
  {
   "cell_type": "markdown",
   "metadata": {},
   "source": [
    "#### d.1)"
   ]
  },
  {
   "cell_type": "code",
   "execution_count": null,
   "metadata": {
    "scrolled": true
   },
   "outputs": [],
   "source": [
    "c_choices = np.linspace(0.1, 7, 30)\n",
    "result1 = np.zeros((len(c_choices),3))\n",
    "result1[:, 0] = c_choices\n",
    "N = 500\n",
    "for i, c in enumerate(c_choices):\n",
    "    errors = []\n",
    "    for _ in range(5):\n",
    "        # FILL\n",
    "        errors.append(accuracy(G)/(G.number_of_edges()/2))\n",
    "    result1[i, 1] = np.mean(errors)\n",
    "    result1[i, 2] = np.std(errors)"
   ]
  },
  {
   "cell_type": "code",
   "execution_count": null,
   "metadata": {},
   "outputs": [],
   "source": [
    "plt.figure(figsize=(10,5))\n",
    "plt.errorbar(result1[:,0], result1[:,1], result1[:,2])\n",
    "plt.xlabel('Average degree $c$', size=12)\n",
    "plt.ylabel('Fraction of violations', size=12)\n",
    "plt.savefig('tutorial10_point_d.png')\n",
    "plt.show()"
   ]
  },
  {
   "cell_type": "markdown",
   "metadata": {},
   "source": [
    "#### d.2)"
   ]
  },
  {
   "cell_type": "code",
   "execution_count": null,
   "metadata": {},
   "outputs": [],
   "source": [
    "q_choices = np.arange(2, 12)\n",
    "result1b = np.zeros((len(q_choices),3))\n",
    "result1b[:, 0] = q_choices\n",
    "N = 500\n",
    "c = 5\n",
    "for i, q in enumerate(q_choices):\n",
    "    errors = []\n",
    "    for _ in range(5):\n",
    "        # FILL\n",
    "        errors.append(accuracy(G)/(G.number_of_edges()/2))\n",
    "    result1b[i, 1] = np.mean(errors)\n",
    "    result1b[i, 2] = np.std(errors)"
   ]
  },
  {
   "cell_type": "code",
   "execution_count": null,
   "metadata": {},
   "outputs": [],
   "source": [
    "plt.figure(figsize=(10,5))\n",
    "plt.errorbar(result1b[:,0], result1b[:,1], result1b[:,2])\n",
    "plt.xlabel('Number of colors $q$', size=12)\n",
    "plt.ylabel('Fraction of violations', size=12)\n",
    "plt.savefig('tutorial10_point_d_color.png')\n",
    "plt.show()"
   ]
  },
  {
   "cell_type": "markdown",
   "metadata": {},
   "source": [
    "## Point e)"
   ]
  },
  {
   "cell_type": "code",
   "execution_count": null,
   "metadata": {},
   "outputs": [],
   "source": [
    "N = 1000\n",
    "q = 3\n",
    "c = 5\n",
    "\n",
    "G = nx.erdos_renyi_graph(n=N, p=c/(N-1))\n",
    "G = G.to_directed()\n",
    "\n",
    "plt.figure(figsize=(17,5))\n",
    "for # FILL\n",
    "    # FILL\n",
    "plt.legend(fontsize=12)\n",
    "plt.xlabel('Number of iterations',size=12)\n",
    "plt.ylabel('$err$', size=12)\n",
    "plt.savefig('tutorial10_point_e.png')\n",
    "plt.show()"
   ]
  }
 ],
 "metadata": {
  "kernelspec": {
   "display_name": "Python 3",
   "language": "python",
   "name": "python3"
  },
  "language_info": {
   "codemirror_mode": {
    "name": "ipython",
    "version": 3
   },
   "file_extension": ".py",
   "mimetype": "text/x-python",
   "name": "python",
   "nbconvert_exporter": "python",
   "pygments_lexer": "ipython3",
   "version": "3.7.4"
  }
 },
 "nbformat": 4,
 "nbformat_minor": 2
}
