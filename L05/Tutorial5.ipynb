{
 "cells": [
  {
   "cell_type": "markdown",
   "metadata": {
    "pycharm": {
     "is_executing": false
    }
   },
   "source": [
    "# 5. Temporal Point Process (TPP)"
   ]
  },
  {
   "cell_type": "code",
   "execution_count": null,
   "metadata": {},
   "outputs": [],
   "source": [
    "# Common imports \n",
    "import cvxpy as CVX\n",
    "import matplotlib.pyplot as plt\n",
    "import numpy as np\n",
    "from scipy.special import erf\n",
    "\n",
    "import sys\n",
    "print(sys.version)"
   ]
  },
  {
   "cell_type": "markdown",
   "metadata": {
    "pycharm": {}
   },
   "source": [
    "## 1. Homogeneous Poisson Process\n"
   ]
  },
  {
   "cell_type": "code",
   "execution_count": null,
   "metadata": {
    "pycharm": {}
   },
   "outputs": [],
   "source": [
    "def sample_homogeneous(mu, t_prev):\n",
    "    return np.random.exponential(scale=1/mu) + t_prev"
   ]
  },
  {
   "cell_type": "markdown",
   "metadata": {},
   "source": [
    "## 2. Inhomogeneous Poisson Process"
   ]
  },
  {
   "cell_type": "code",
   "execution_count": null,
   "metadata": {
    "pycharm": {
     "name": "#%%\n"
    }
   },
   "outputs": [],
   "source": [
    "def g_function_eval(theta_list, tau_list, beta,t):\n",
    "    exp_term = np.exp(-beta*np.square(t - tau_list))\n",
    "    return np.sum(np.multiply(theta_list,exp_term))\n",
    "\n",
    "def find_max_g_function(T,theta_list, tau_list, beta, npoints=10000):\n",
    "    max_g = 0\n",
    "    for t in np.linspace(0, T, npoints):\n",
    "        g_tmp = g_function_eval(theta_list, tau_list, beta,t)\n",
    "        max_g = g_tmp if g_tmp > max_g else max_g\n",
    "    \n",
    "    return max_g\n",
    "        \n",
    "    "
   ]
  },
  {
   "cell_type": "code",
   "execution_count": null,
   "metadata": {},
   "outputs": [],
   "source": [
    "def sample_inhomogeneous(theta_list, tau_list, beta, T, Nev, seed=None):\n",
    "    \"\"\"Generates a sample of a Hawkes process until one of the following happens:\n",
    "      - The next generated event is after T\n",
    "      - Nev events have been generated.\n",
    "\n",
    "    Returns: a tuple with the event times and the last generated time.\n",
    "    \"\"\"\n",
    "    np.random.seed(seed)\n",
    "\n",
    "    # First event is generated just as for a normal Poisson process.\n",
    "\n",
    "    tev = np.zeros(Nev)\n",
    "    n = 0\n",
    "    g_max = find_max_g_function(T, theta_list, tau_list, beta)\n",
    "    next_arrival_time = sample_homogeneous(g_max, 0)\n",
    "    tev[n] = next_arrival_time\n",
    "\n",
    "    # Generate the next events\n",
    "    n += 1\n",
    "    while n < Nev:\n",
    "        next_arrival_time = sample_homogeneous(g_max, next_arrival_time)\n",
    "\n",
    "        if next_arrival_time < T:\n",
    "            u = np.random.rand()\n",
    "            g_t = g_function_eval(theta_list, tau_list, beta, t=next_arrival_time)\n",
    "\n",
    "            if u <= g_t / g_max:\n",
    "                tev[n] = next_arrival_time\n",
    "                n += 1\n",
    "        else:\n",
    "            break\n",
    "\n",
    "    tev = tev[0:n]\n",
    "\n",
    "    if n == Nev:\n",
    "        Tend = tev[-1]\n",
    "    else:\n",
    "        Tend = T\n",
    "\n",
    "    return tev, Tend"
   ]
  },
  {
   "cell_type": "code",
   "execution_count": null,
   "metadata": {},
   "outputs": [],
   "source": [
    "def evaluate_survival_integral(T, tau, beta):\n",
    "    sqrt_beta = np.sqrt(beta)\n",
    "    sqrt_pi = np.sqrt(np.pi)\n",
    "    numerator = sqrt_pi* (erf(tau*sqrt_beta) + erf(sqrt_beta*(T-tau)))\n",
    "    \n",
    "    return numerator/(2*sqrt_beta)"
   ]
  },
  {
   "cell_type": "code",
   "execution_count": null,
   "metadata": {},
   "outputs": [],
   "source": [
    "def preprocess_events_inhomogeneous(tev, T, beta, tau_list):\n",
    "    N_events = len(tev)\n",
    "    N_kernels = len(tau_list)\n",
    "    cte_ij = np.zeros([N_events, N_kernels], dtype=float)\n",
    "    K_j = evaluate_survival_integral(T, tau_list, beta)\n",
    "\n",
    "    for i, tev_i in enumerate(tev):\n",
    "        cte_ij[i,:] = np.exp(-beta * np.square(tev_i - tau_list))\n",
    "\n",
    "    return cte_ij, K_j"
   ]
  },
  {
   "cell_type": "markdown",
   "metadata": {},
   "source": [
    "### Play with the Inhomogeneous Poisson Process"
   ]
  },
  {
   "cell_type": "code",
   "execution_count": null,
   "metadata": {},
   "outputs": [],
   "source": [
    "def plot_inhomogeneous(tev, theta_list, tau_list, beta, T, resolution):\n",
    "    tvec = np.arange(0, T, step=T / resolution)\n",
    "    \n",
    "    colorLambda = ['r--', 'k--', 'g--', 'm--', 'c--']\n",
    "    colorEv = ['r+', 'k+', 'g+', 'm+', 'c+']\n",
    "\n",
    "    for i, tev_i in enumerate(tev): # We iterate over the realizations of the Hawkes Process\n",
    "        n = -1\n",
    "        l_t = np.zeros(len(tvec))\n",
    "\n",
    "        for t in tvec:\n",
    "            n += 1\n",
    "            l_t[n] = g_function_eval(theta_list, tau_list, beta, t=t)\n",
    "\n",
    "        plt.plot(tvec, l_t, colorLambda[i % len(colorLambda)])\n",
    "        plt.plot(tev[i], np.zeros(len(tev[i])), colorEv[i % len(colorEv)])"
   ]
  },
  {
   "cell_type": "code",
   "execution_count": null,
   "metadata": {},
   "outputs": [],
   "source": [
    "# Simulation time\n",
    "T = 10\n",
    "\n",
    "# Maximum number of events per realization\n",
    "maxNev = 100\n",
    "\n",
    "# Number of samples to take\n",
    "Nsamples = 50\n",
    "\n",
    "# g function parameters parameter\n",
    "theta_list = np.array([12, 10])\n",
    "tau_list= np.array([2, 8])\n",
    "beta = 2"
   ]
  },
  {
   "cell_type": "code",
   "execution_count": null,
   "metadata": {},
   "outputs": [],
   "source": [
    "tev = [None] * Nsamples\n",
    "Tend = [None] * Nsamples\n",
    "C_ij = [None] * Nsamples\n",
    "K_j = np.zeros([Nsamples, len(tau_list)])\n",
    "for n in range(Nsamples):\n",
    "    tev[n], Tend[n] = sample_inhomogeneous(theta_list, tau_list, beta, T, maxNev)\n",
    "    C_ij[n], K_j[n] = preprocess_events_inhomogeneous(tev[n], Tend[n], beta, tau_list)"
   ]
  },
  {
   "cell_type": "code",
   "execution_count": null,
   "metadata": {},
   "outputs": [],
   "source": [
    "for n, tev_n in enumerate(tev):\n",
    "    print('Sequence ({}) | len: {}'.format(n, len(tev_n)))"
   ]
  },
  {
   "cell_type": "code",
   "execution_count": null,
   "metadata": {},
   "outputs": [],
   "source": [
    "plot_inhomogeneous(tev, theta_list, tau_list, beta, T, resolution=10000.0)\n",
    "plt.ion()  # Make the plot interactive\n",
    "plt.show()  # Show the plot. May not be needed in IPython"
   ]
  },
  {
   "cell_type": "markdown",
   "metadata": {},
   "source": [
    "Find the ML estimate of the parameters"
   ]
  },
  {
   "cell_type": "code",
   "execution_count": null,
   "metadata": {},
   "outputs": [],
   "source": [
    "def inohomogeneous_log_lik(T, theta_opt, C_ij_n, K_j_n, for_cvx=False):\n",
    "    # The implementation has to be different for CVX and numpy versions because\n",
    "    # CVX variables cannot handle the vectorized operations of Numpy  like\n",
    "    # np.sum and np.log.\n",
    "\n",
    "    L = 0\n",
    "    for n, C_ij in enumerate(C_ij_n):\n",
    "        K_j = K_j_n[n]\n",
    "        for i in range(C_ij.shape[0]):\n",
    "            theta_cij = [ th*c for th, c in zip(theta_opt, C_ij[i])]\n",
    "            L += CVX.sum(CVX.log(CVX.sum(theta_cij)))\n",
    "            \n",
    "        theta_kj = [ th*k for th, k in zip(theta_opt, K_j)]\n",
    "        L -= CVX.sum(theta_kj)\n",
    "\n",
    "    return L"
   ]
  },
  {
   "cell_type": "code",
   "execution_count": null,
   "metadata": {},
   "outputs": [],
   "source": [
    "theta_opt = [CVX.Variable() for _ in range(len(theta_list))]\n",
    "constraints = [th_op >= 0 for th_op in theta_opt]\n",
    "\n",
    "complete_log_likelihood = inohomogeneous_log_lik(Tend, theta_opt, C_ij, K_j, for_cvx=True)\n",
    "\n",
    "prob = CVX.Problem(CVX.Maximize(complete_log_likelihood), constraints=constraints)\n",
    "\n",
    "result = prob.solve(verbose=True, max_iters=5000, abstol=1e-10)"
   ]
  },
  {
   "cell_type": "code",
   "execution_count": null,
   "metadata": {},
   "outputs": [],
   "source": [
    "error_theta = [ th_op.value - theta_list[i] for i, th_op in enumerate(theta_opt)]\n",
    "\n",
    "print('error_theta = {}'.format(error_theta))"
   ]
  },
  {
   "cell_type": "code",
   "execution_count": null,
   "metadata": {},
   "outputs": [],
   "source": [
    "print('Theta real: {}'.format(theta_list))\n",
    "print('Theta est: {}'.format([ float(th_op.value)  for th_op in theta_opt]))"
   ]
  },
  {
   "cell_type": "markdown",
   "metadata": {},
   "source": [
    "## 3. Hawkes Process"
   ]
  },
  {
   "cell_type": "code",
   "execution_count": null,
   "metadata": {
    "pycharm": {
     "name": "#%%\n"
    }
   },
   "outputs": [],
   "source": [
    "def intensity_hawkes_exp_eval(mu, alpha, w, history, t):\n",
    "    return mu + alpha * np.sum(np.exp(-w * (t - history)))"
   ]
  },
  {
   "cell_type": "code",
   "execution_count": null,
   "metadata": {},
   "outputs": [],
   "source": [
    "def sample_hawkes(lambda_0, alpha_0, w, T, Nev, seed=None):\n",
    "    \"\"\"Generates a sample of a Hawkes process until one of the following happens:\n",
    "      - The next generated event is after T\n",
    "      - Nev events have been generated.\n",
    "\n",
    "    Returns: a tuple with the event times and the last generated time.\n",
    "    \"\"\"\n",
    "\n",
    "    np.random.seed(seed)\n",
    "\n",
    "    # First event is generated just as for a normal Poisson process.\n",
    "\n",
    "    tev = np.zeros(Nev)\n",
    "    n = 0\n",
    "    lambda_star = lambda_0\n",
    "    next_arrival_time = sample_homogeneous(lambda_star, 0)\n",
    "    tev[n] = next_arrival_time\n",
    "\n",
    "    # Generate the next events\n",
    "    n += 1\n",
    "    while n < Nev:\n",
    "        next_arrival_time = sample_homogeneous(lambda_star, next_arrival_time)\n",
    "\n",
    "        if next_arrival_time < T:\n",
    "            u = np.random.rand()\n",
    "            lambda_s = intensity_hawkes_exp_eval(lambda_0, alpha_0, w, history=tev[0:n], t=next_arrival_time)\n",
    "\n",
    "            if u <= lambda_s / lambda_star:\n",
    "                tev[n] = next_arrival_time\n",
    "                n += 1\n",
    "                lambda_star =  lambda_s + alpha_0\n",
    "        else:\n",
    "            break\n",
    "\n",
    "    tev = tev[0:n]  \n",
    "\n",
    "    if n == Nev:\n",
    "        Tend = tev[-1]\n",
    "    else:\n",
    "        Tend = T\n",
    "\n",
    "    return tev, Tend"
   ]
  },
  {
   "cell_type": "code",
   "execution_count": null,
   "metadata": {},
   "outputs": [],
   "source": [
    "def plot_hawkes(tev, l_0, alpha_0, w, T, resolution):\n",
    "    tvec = np.arange(0, T, step=T / resolution)\n",
    "\n",
    "    # We can obtain the expected value using the Laplace transform\n",
    "    mu_t = (np.exp((alpha_0 - w) * tvec) + w * (1.0 / (alpha_0 - w)) *\n",
    "            (np.exp((alpha_0 - w) * tvec) - 1)) * l_0\n",
    "\n",
    "    plt.plot(tvec, mu_t, 'b-', linewidth=1.5)\n",
    "\n",
    "    colorLambda = ['r--', 'k--', 'g--', 'm--', 'c--']\n",
    "    colorEv = ['r+', 'k+', 'g+', 'm+', 'c+']\n",
    "\n",
    "    for i, tev_i in enumerate(tev): # We iterate over the realizations of the Hawkes Process\n",
    "        n = -1\n",
    "        l_t = np.zeros(len(tvec))\n",
    "\n",
    "        for t in tvec:\n",
    "            n += 1\n",
    "            l_t[n] = intensity_hawkes_exp_eval(l_0, alpha_0, w, history=tev_i[tev_i < t], t=t)\n",
    "            # l_t[n] = l_0 + alpha_0 * np.sum(np.exp(-w * (t - tev[i][tev[i] < t])))\n",
    "\n",
    "        plt.plot(tvec, l_t, colorLambda[i % len(colorLambda)])\n",
    "        plt.plot(tev[i], np.zeros(len(tev[i])), colorEv[i % len(colorEv)])"
   ]
  },
  {
   "cell_type": "code",
   "execution_count": null,
   "metadata": {},
   "outputs": [],
   "source": [
    "def preprocess_events(tev, T, w):\n",
    "    cte_i = np.zeros_like(tev, dtype=float)\n",
    "    K = 0 # This represents the survival part of the log-likelihood\n",
    "\n",
    "    for i in range(len(tev)):\n",
    "        cte_i[i] = np.sum(np.exp(-w * (tev[i] - tev[0:i])))\n",
    "        K += (1.0 / w) * (1.0 - np.exp(-w * (T - tev[i])))\n",
    " \n",
    "    return cte_i, K"
   ]
  },
  {
   "cell_type": "markdown",
   "metadata": {},
   "source": [
    "### Play with the Hawkes Process\n"
   ]
  },
  {
   "cell_type": "code",
   "execution_count": null,
   "metadata": {
    "pycharm": {
     "name": "#%%\n"
    }
   },
   "outputs": [],
   "source": [
    "# Simulation time\n",
    "T = 30\n",
    "\n",
    "# Maximum number of events per realization\n",
    "maxNev = 1000\n",
    "# Base intensity\n",
    "lambda_0 = 1\n",
    "\n",
    "# Self excitation parameter\n",
    "alpha_0 = 0.9\n",
    "\n",
    "# Rate of decay\n",
    "w = 1\n",
    "\n",
    "# Number of realizations\n",
    "Nsamples = 50"
   ]
  },
  {
   "cell_type": "code",
   "execution_count": null,
   "metadata": {},
   "outputs": [],
   "source": [
    "tev = [None] * Nsamples\n",
    "Tend = [None] * Nsamples\n",
    "cte_i = [None] * Nsamples\n",
    "K = np.zeros(Nsamples)\n",
    "for i in range(Nsamples):\n",
    "    tev[i], Tend[i] = sample_hawkes(lambda_0, alpha_0, w, T, maxNev)\n",
    "    cte_i[i], K[i] = preprocess_events(tev[i], Tend[i], w)\n"
   ]
  },
  {
   "cell_type": "code",
   "execution_count": null,
   "metadata": {},
   "outputs": [],
   "source": [
    "for n, tev_n in enumerate(tev):\n",
    "    print('Sequence ({}) | len: {}'.format(n, len(tev_n)))"
   ]
  },
  {
   "cell_type": "code",
   "execution_count": null,
   "metadata": {
    "pycharm": {
     "name": "#%%\n"
    }
   },
   "outputs": [],
   "source": [
    "plot_hawkes(tev, lambda_0, alpha_0, w, T, 10000.0)\n",
    "plt.ion()  # Make the plot interactive\n",
    "plt.show()  # Show the plot. May not be needed in IPython"
   ]
  },
  {
   "cell_type": "markdown",
   "metadata": {},
   "source": [
    "Find the ML estimate of the parameters"
   ]
  },
  {
   "cell_type": "code",
   "execution_count": null,
   "metadata": {},
   "outputs": [],
   "source": [
    "def hawkes_log_lik(T, alpha_opt, lambda_opt, cte_i, K, for_cvx=False):\n",
    "    # The implementation has to be different for CVX and numpy versions because\n",
    "    # CVX variables cannot handle the vectorized operations of Numpy  like\n",
    "    # np.sum and np.log.\n",
    "\n",
    "    L = 0\n",
    "    for i in range(len(cte_i)):\n",
    "        if for_cvx and len(cte_i) > 0:\n",
    "            L += CVX.sum(CVX.log(lambda_opt + alpha_opt * cte_i[i]))\n",
    "        else:\n",
    "            L += np.sum(np.log(lambda_opt + alpha_opt * cte_i[i]))\n",
    "\n",
    "        L -= lambda_opt * T[i] + alpha_opt * K[i]\n",
    "\n",
    "    return L"
   ]
  },
  {
   "cell_type": "code",
   "execution_count": null,
   "metadata": {},
   "outputs": [],
   "source": [
    "alpha_opt = CVX.Variable() if alpha_0 > 0 else 0\n",
    "constraints = [alpha_opt >= 0] if alpha_0 > 0 else []\n",
    "lambda_opt = CVX.Variable()\n",
    "constraints.append(lambda_opt >= 0)\n",
    "\n",
    "complete_log_lik = hawkes_log_lik(Tend,\n",
    "                                alpha_opt,\n",
    "                                lambda_opt,\n",
    "                                cte_i,\n",
    "                                K,\n",
    "                                for_cvx=True)\n",
    "prob = CVX.Problem(\n",
    "    CVX.Maximize(complete_log_lik),\n",
    "    constraints=constraints)\n",
    "\n",
    "result = prob.solve(verbose=True)"
   ]
  },
  {
   "cell_type": "code",
   "execution_count": null,
   "metadata": {},
   "outputs": [],
   "source": [
    "error_alpha = (alpha_opt.value - alpha_0) if alpha_0 > 0 else 0\n",
    "error_lambda_0 = (lambda_opt.value - lambda_0)\n",
    "\n",
    "print('error_alpha = {}, error_lambda_0 = {}'\n",
    "      .format(error_alpha, error_lambda_0))"
   ]
  },
  {
   "cell_type": "code",
   "execution_count": null,
   "metadata": {},
   "outputs": [],
   "source": [
    "print('lambda_0 real: {} | alpha real: {}'.format(lambda_0, alpha_0))\n",
    "print('lambda_0 est: {} | alpha est: {}'.format(float(lambda_opt.value), float(alpha_opt.value)))\n"
   ]
  },
  {
   "cell_type": "code",
   "execution_count": null,
   "metadata": {},
   "outputs": [],
   "source": []
  }
 ],
 "metadata": {
  "anaconda-cloud": {},
  "kernelspec": {
   "display_name": "Python 3",
   "language": "python",
   "name": "python3"
  },
  "language_info": {
   "codemirror_mode": {
    "name": "ipython",
    "version": 3
   },
   "file_extension": ".py",
   "mimetype": "text/x-python",
   "name": "python",
   "nbconvert_exporter": "python",
   "pygments_lexer": "ipython3",
   "version": "3.7.4"
  },
  "pycharm": {
   "stem_cell": {
    "cell_type": "raw",
    "metadata": {
     "collapsed": false
    },
    "source": []
   }
  }
 },
 "nbformat": 4,
 "nbformat_minor": 2
}
