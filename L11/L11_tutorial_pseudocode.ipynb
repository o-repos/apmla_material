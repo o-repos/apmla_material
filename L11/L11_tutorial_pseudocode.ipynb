{
 "cells": [
  {
   "cell_type": "markdown",
   "metadata": {},
   "source": [
    "#  Tutorial 11: SBM "
   ]
  },
  {
   "cell_type": "markdown",
   "metadata": {},
   "source": [
    " <font color='magneta'> In this tutorial, we will implement various inference techniques and models to solve the SBM on real and synthetic networks. We will use several codes developed in the package pysbm. </font>"
   ]
  },
  {
   "cell_type": "markdown",
   "metadata": {},
   "source": [
    "# Exercise 1"
   ]
  },
  {
   "cell_type": "markdown",
   "metadata": {},
   "source": [
    "### Exercise 1.a"
   ]
  },
  {
   "cell_type": "markdown",
   "metadata": {},
   "source": [
    "* Clone the github repository pysbm at https://github.com/funket/pysbm."
   ]
  },
  {
   "cell_type": "markdown",
   "metadata": {},
   "source": [
    "### Exercise 1.b"
   ]
  },
  {
   "cell_type": "markdown",
   "metadata": {},
   "source": [
    "* Download the datasets of football, Zachary’s karate and polblogs from http://www-personal.umich.edu/~mejn/netdata/ and put them inside the folder pysbm/Network Data/."
   ]
  },
  {
   "cell_type": "markdown",
   "metadata": {},
   "source": [
    "Now, we need to import the `pysbm` package and the `networkx` package, \n",
    "which is the used package for representing the networks. \n",
    "Additionally, we want to create some plots and import `matplotlib`. \n",
    "\n",
    "If you later want to process larger graphs, we recommend using [PyPy](https://pypy.org). \n"
   ]
  },
  {
   "cell_type": "code",
   "execution_count": null,
   "metadata": {},
   "outputs": [],
   "source": [
    "import pysbm\n",
    "import numpy as np\n",
    "import networkx as nx\n",
    "import matplotlib.pylab as plt\n",
    "%matplotlib notebook"
   ]
  },
  {
   "cell_type": "code",
   "execution_count": null,
   "metadata": {},
   "outputs": [],
   "source": [
    "dataset={'karate':'./pysbm/Network Data/karate/karate.gml',\n",
    "         'football':'./pysbm/Network Data/football/football.gml',\n",
    "         'polblogs':'./pysbm/Network Data/polblogs/polblogs.gml'}"
   ]
  },
  {
   "cell_type": "code",
   "execution_count": null,
   "metadata": {},
   "outputs": [],
   "source": [
    "colors={0:'b',1:'r',2:'g',3:'orange',4:'black',5:'magenta'}"
   ]
  },
  {
   "cell_type": "markdown",
   "metadata": {},
   "source": [
    "We start with one of the standard examples, the karate club network.\n",
    "\n",
    "* Import dataset into a `networkx` network object. Make it `undirected` as we are interested in studying, for simplicity, only this version.   \n",
    "Keep only the largest connected component."
   ]
  },
  {
   "cell_type": "code",
   "execution_count": null,
   "metadata": {},
   "outputs": [],
   "source": [
    "#Step 1: import the dataset karate_club\n",
    "\n",
    "dfname='karate'\n",
    "if dfname=='karate':\n",
    "    graph=nx.read_gml(dataset[dfname],label= 'id')\n",
    "else:\n",
    "    graph=nx.read_gml(dataset[dfname])\n",
    "\n",
    "#Make the graph undirected!\n",
    "\n",
    "graph= # FILL\n",
    "Gcc = sorted(nx.connected_components(graph), key=len, reverse=True)\n",
    "graph = graph.subgraph(Gcc[0])"
   ]
  },
  {
   "cell_type": "code",
   "execution_count": null,
   "metadata": {},
   "outputs": [],
   "source": [
    "print('Number of Nodes(N) =',graph.number_of_nodes(),' Number of Edges(E)=',graph.number_of_edges())"
   ]
  },
  {
   "cell_type": "markdown",
   "metadata": {},
   "source": [
    "**Goal**: replicate the example of Karrer and Newmann 2011 \n",
    "(https://journals.aps.org/pre/pdf/10.1103/PhysRevE.83.016107)"
   ]
  },
  {
   "cell_type": "markdown",
   "metadata": {},
   "source": [
    "Let's infer stochastic block models for the karate club graph with the standard  SBM. First, we need the graph and encapsulate the graph into a `partition` object with the known number of blocks."
   ]
  },
  {
   "cell_type": "code",
   "execution_count": null,
   "metadata": {},
   "outputs": [],
   "source": [
    "K=2\n",
    "standard_partition = pysbm.NxPartition(graph=graph,number_of_blocks=K)\n",
    "standard_objective_function = pysbm.TraditionalUnnormalizedLogLikelyhood(is_directed=False)"
   ]
  },
  {
   "cell_type": "markdown",
   "metadata": {},
   "source": [
    "Now we take a look at the current state and plot the nodes with size proportional to their degree and with color equivalent to the group they belong to."
   ]
  },
  {
   "cell_type": "code",
   "execution_count": null,
   "metadata": {},
   "outputs": [],
   "source": [
    "node_size=[np.log(graph.degree[i])*100 for i in list(graph.nodes())]\n",
    "position = nx.spring_layout(graph,iterations=200)\n",
    "\n",
    "plt.figure()\n",
    "nx.draw_networkx_nodes(graph, position, node_size=node_size,node_color=[colors[standard_partition.get_block_of_node(node)] for node in graph])\n",
    "nx.draw_networkx_edges(graph,pos=position,width=0.1)\n",
    "plt.axis('off')\n",
    "plt.show()"
   ]
  },
  {
   "cell_type": "markdown",
   "metadata": {},
   "source": [
    "### <font color='red'> <center> **As you can see, there is no clear pattern!** <center> </font>"
   ]
  },
  {
   "cell_type": "markdown",
   "metadata": {},
   "source": [
    "### Exercise 1.c"
   ]
  },
  {
   "cell_type": "markdown",
   "metadata": {},
   "source": [
    "* Run three types of inference using the SBM model with weight, which is the standard model of Karrer and Newman (2011), i.e. the Poisson distributed likelihood. These are two versions of a Monte Carlo Metropolis-Hasting scheme and the greedy algorithm proposed by Karrer and Newman (2011). Comment on their differences."
   ]
  },
  {
   "cell_type": "code",
   "execution_count": null,
   "metadata": {},
   "outputs": [],
   "source": []
  },
  {
   "cell_type": "markdown",
   "metadata": {},
   "source": [
    "    ***********Solution***********"
   ]
  },
  {
   "cell_type": "code",
   "execution_count": null,
   "metadata": {},
   "outputs": [],
   "source": []
  },
  {
   "cell_type": "markdown",
   "metadata": {},
   "source": [
    "We now run 3 different inference methods:\n",
    "   * `KarrerInference`: the greedy with MC moves proposed by Karrer & Newman to find the maximum of the objective function.\n",
    "   \n",
    "   \n",
    "   * `MetropolisHastingInference`: a Metropolis Hasting MC scheme similar to Karrer & Newman, but where there is an acceptance rate to a move. The Karrer & Newman instead, makes deterministic moves that always improve the objective function. \n",
    "   \n",
    "   \n",
    "   * `PeixotoInference`: a Metropolis Hasting MC scheme which aggregates blocks, in addition to switching single nodes' groups. This was proposed in:  Peixoto TP, \"_Efficient Monte Carlo and greedy heuristic for the inference of stochastic block models_\", PRE 2014.  This is similar to `MetropolisHastingInference` but in addition merges blocks while performing moves."
   ]
  },
  {
   "cell_type": "markdown",
   "metadata": {},
   "source": [
    "All the three methods will end up in a local minimum of the objective function. Therefore we run the inference 10 times and keep the partition associated to the best value of the objective function."
   ]
  },
  {
   "cell_type": "markdown",
   "metadata": {},
   "source": [
    "### **Inference 1**: `KarrerInference`"
   ]
  },
  {
   "cell_type": "code",
   "execution_count": null,
   "metadata": {},
   "outputs": [],
   "source": []
  },
  {
   "cell_type": "markdown",
   "metadata": {},
   "source": [
    "### **Inference 1b**: `KarrerInference` with no negative moves allowed."
   ]
  },
  {
   "cell_type": "code",
   "execution_count": null,
   "metadata": {},
   "outputs": [],
   "source": []
  },
  {
   "cell_type": "code",
   "execution_count": null,
   "metadata": {},
   "outputs": [],
   "source": [
    "print(\"Standard SBM Karrer and Newmann\")\n",
    "\n",
    "plt.figure()\n",
    "nx.draw_networkx_nodes(# FILL)\n",
    "nx.draw_networkx_edges(graph,pos=position,width=0.1)\n",
    "plt.axis('off')\n",
    "plt.show()\n",
    "\n",
    "print(\"Standard SBM Karrer and Newmann no negative moves\")\n",
    "plt.figure()\n",
    "nx.draw_networkx_nodes(# FILL)\n",
    "nx.draw_networkx_edges(graph,pos=position,width=0.1)\n",
    "plt.axis('off')\n",
    "plt.show()"
   ]
  },
  {
   "cell_type": "code",
   "execution_count": null,
   "metadata": {},
   "outputs": [],
   "source": []
  },
  {
   "cell_type": "markdown",
   "metadata": {},
   "source": [
    "### **Inference 2**: `MetropolisHastingInference` "
   ]
  },
  {
   "cell_type": "code",
   "execution_count": null,
   "metadata": {},
   "outputs": [],
   "source": []
  },
  {
   "cell_type": "markdown",
   "metadata": {},
   "source": [
    "Plot the Result"
   ]
  },
  {
   "cell_type": "code",
   "execution_count": null,
   "metadata": {},
   "outputs": [],
   "source": [
    "print(\"Metropolis Hasting\")\n",
    "\n",
    "plt.figure()\n",
    "nx.draw_networkx_nodes(# FILL)\n",
    "nx.draw_networkx_edges(graph,pos=position,width=0.1)\n",
    "plt.axis('off')\n",
    "plt.show()"
   ]
  },
  {
   "cell_type": "code",
   "execution_count": null,
   "metadata": {},
   "outputs": [],
   "source": []
  },
  {
   "cell_type": "markdown",
   "metadata": {},
   "source": [
    "### **Inference 3**: `PeixotoInference` "
   ]
  },
  {
   "cell_type": "code",
   "execution_count": null,
   "metadata": {},
   "outputs": [],
   "source": []
  },
  {
   "cell_type": "markdown",
   "metadata": {},
   "source": [
    "Plot the results:   "
   ]
  },
  {
   "cell_type": "code",
   "execution_count": null,
   "metadata": {},
   "outputs": [],
   "source": [
    "print(\"Peixoto Inference\")\n",
    "\n",
    "plt.figure()\n",
    "nx.draw_networkx_nodes(# FILL)\n",
    "nx.draw_networkx_edges(graph,pos=position,width=0.1)\n",
    "plt.axis('off')\n",
    "plt.show()"
   ]
  },
  {
   "cell_type": "markdown",
   "metadata": {},
   "source": [
    "### Exercise 1.d"
   ]
  },
  {
   "cell_type": "markdown",
   "metadata": {},
   "source": [
    "* Plot the adjacency matrix ordered by blocks and compare it with the unordered one."
   ]
  },
  {
   "cell_type": "code",
   "execution_count": null,
   "metadata": {},
   "outputs": [],
   "source": []
  },
  {
   "cell_type": "markdown",
   "metadata": {},
   "source": [
    "    ***********Solution***********"
   ]
  },
  {
   "cell_type": "code",
   "execution_count": null,
   "metadata": {},
   "outputs": [],
   "source": []
  },
  {
   "cell_type": "markdown",
   "metadata": {},
   "source": [
    "    - Define a function to extract the groups."
   ]
  },
  {
   "cell_type": "code",
   "execution_count": null,
   "metadata": {},
   "outputs": [],
   "source": [
    "def find_groups(partition,graph,K=None):\n",
    "    # FILL\n",
    "    return groups\n",
    "\n",
    "def ordered_nodelist(partition,graph,K=None):\n",
    "    groups=find_groups(partition,graph,K=K)\n",
    "    # FILL\n",
    "    return ordered_nodelist"
   ]
  },
  {
   "cell_type": "markdown",
   "metadata": {},
   "source": [
    "     - Then plot the adjacency matrix unordered."
   ]
  },
  {
   "cell_type": "code",
   "execution_count": null,
   "metadata": {},
   "outputs": [],
   "source": [
    "print('Random-order adjacency matrix')\n",
    "plt.matshow(nx.to_numpy_matrix(graph,nodelist=np.random.permutation(list(graph.nodes()))))"
   ]
  },
  {
   "cell_type": "markdown",
   "metadata": {},
   "source": [
    "**You can notice no pattern**.  "
   ]
  },
  {
   "cell_type": "markdown",
   "metadata": {},
   "source": [
    "Now, let's plot the adjacency matrix ordered by blocks:"
   ]
  },
  {
   "cell_type": "code",
   "execution_count": null,
   "metadata": {
    "scrolled": false
   },
   "outputs": [],
   "source": [
    "fig, (ax1, ax2, ax3, ax4) = plt.subplots(1,4,figsize=(10,6))\n",
    "\n",
    "ax1.matshow(nx.to_numpy_matrix(graph, nodelist=ordered_nodelist(# FILL)))\n",
    "ax2.matshow(nx.to_numpy_matrix(graph, nodelist=ordered_nodelist(# FILL))\n",
    "ax3.matshow(nx.to_numpy_matrix(graph, nodelist=ordered_nodelist(# FILL))\n",
    "ax4.matshow(nx.to_numpy_matrix(graph, nodelist=ordered_nodelist(# FILL)\n",
    "\n",
    "ax1.set_title('KarrerInference')\n",
    "ax2.set_title('Karrer Non Negative')\n",
    "ax3.set_title('Metropolis Hastings')\n",
    "ax4.set_title('Peixoto')\n",
    "\n",
    "ax1.axis('off')\n",
    "ax2.axis('off')\n",
    "ax3.axis('off')\n",
    "ax4.axis('off')"
   ]
  },
  {
   "cell_type": "code",
   "execution_count": null,
   "metadata": {},
   "outputs": [],
   "source": []
  },
  {
   "cell_type": "markdown",
   "metadata": {},
   "source": [
    "### Exercise 1.e"
   ]
  },
  {
   "cell_type": "markdown",
   "metadata": {},
   "source": [
    "* Plot the affinity matrices of two partition at your choice."
   ]
  },
  {
   "cell_type": "code",
   "execution_count": null,
   "metadata": {},
   "outputs": [],
   "source": []
  },
  {
   "cell_type": "markdown",
   "metadata": {},
   "source": [
    "    ***********Solution***********"
   ]
  },
  {
   "cell_type": "markdown",
   "metadata": {},
   "source": [
    " Affinity matrices "
   ]
  },
  {
   "cell_type": "code",
   "execution_count": null,
   "metadata": {},
   "outputs": [],
   "source": [
    "fig, (ax1, ax2) = plt.subplots(1,2,figsize=(10,6))\n",
    "im1=ax1.matshow(# FILL.block_edges)\n",
    "im2=ax2.matshow(# FILL.block_edges)\n",
    "fig.colorbar(im1, ax=ax1)\n",
    "fig.colorbar(im2, ax=ax2)"
   ]
  },
  {
   "cell_type": "code",
   "execution_count": null,
   "metadata": {},
   "outputs": [],
   "source": []
  },
  {
   "cell_type": "markdown",
   "metadata": {},
   "source": [
    "# Exercise 2"
   ]
  },
  {
   "cell_type": "markdown",
   "metadata": {},
   "source": [
    "### Exercise 2.b"
   ]
  },
  {
   "cell_type": "markdown",
   "metadata": {},
   "source": [
    "* Run the same inference as before, but this time using the degree-corrected likelihood as objectivefunction."
   ]
  },
  {
   "cell_type": "markdown",
   "metadata": {},
   "source": [
    "    **************Solution*************** "
   ]
  },
  {
   "cell_type": "markdown",
   "metadata": {},
   "source": [
    "### Degree-corrected SBM\n",
    "\n",
    "As you could notice, the best partition found by the algorithms favor a block division correlated with degree.   The solution to this problem is to incorporate explicitly degree heterogeneity into the model. \n",
    "\n",
    "This implies introducing new hidden variables $\\theta_{i}\\in \\mathbb{R}\\geq 0$ controlling the expected degree of node $i$.\n",
    "\n",
    "\\begin{eqnarray}\n",
    "P(\\mathbf{A}| \\theta)&=& \\prod_{i<j} \\text{Pois} \\,(A_{ij};\\theta_{i}\\theta_{j}\\,C_{q_i q_j} ) \\\\\n",
    "&=& \\prod_{i<j} \\frac{e^{-\\theta_{i}\\theta_{j}\\,C_{q_iq_j}}\\, (\\theta_{i}\\theta_{j}\\,C_{q_iq_j})^{A_{ij}}}{A_{ij}!} \\quad.\n",
    "\\end{eqnarray}"
   ]
  },
  {
   "cell_type": "code",
   "execution_count": null,
   "metadata": {
    "pycharm": {
     "metadata": false,
     "name": "#%%\n"
    }
   },
   "outputs": [],
   "source": [
    "degree_corrected_objective_function = pysbm.DegreeCorrectedUnnormalizedLogLikelyhood(is_directed=False)"
   ]
  },
  {
   "cell_type": "markdown",
   "metadata": {},
   "source": [
    "### **Inference type 1**: `KarrerInference` "
   ]
  },
  {
   "cell_type": "code",
   "execution_count": null,
   "metadata": {},
   "outputs": [],
   "source": []
  },
  {
   "cell_type": "markdown",
   "metadata": {},
   "source": [
    "### **Inference 1b**: `KarrerInference` with no negative moves allowed."
   ]
  },
  {
   "cell_type": "code",
   "execution_count": null,
   "metadata": {},
   "outputs": [],
   "source": []
  },
  {
   "cell_type": "code",
   "execution_count": null,
   "metadata": {},
   "outputs": [],
   "source": [
    "#Plot the result\n",
    "\n",
    "print(\"Standard SBM Karrer and Newmann degree_corrected\")\n",
    "\n",
    "plt.figure()\n",
    "nx.draw_networkx_nodes(# FILL)\n",
    "nx.draw_networkx_edges(graph,pos=position,width=0.1)\n",
    "plt.axis('off')\n",
    "plt.show()\n",
    "\n",
    "print(\"Standard SBM Karrer and Newmann no negative moves\")\n",
    "plt.figure()\n",
    "nx.draw_networkx_nodes(# FILL)\n",
    "nx.draw_networkx_edges(graph,pos=position,width=0.1)\n",
    "plt.axis('off')\n",
    "plt.show()"
   ]
  },
  {
   "cell_type": "markdown",
   "metadata": {},
   "source": [
    "### **Inference 2**: `MetropolisHastingInference` "
   ]
  },
  {
   "cell_type": "code",
   "execution_count": null,
   "metadata": {},
   "outputs": [],
   "source": []
  },
  {
   "cell_type": "code",
   "execution_count": null,
   "metadata": {},
   "outputs": [],
   "source": [
    "#plot the results!\n",
    "\n",
    "print(\"Metropolis Hasting\")\n",
    "\n",
    "plt.figure()\n",
    "nx.draw_networkx_nodes(# FILL)\n",
    "nx.draw_networkx_edges(graph,pos=position,width=0.1)\n",
    "plt.axis('off')\n",
    "plt.show()\n",
    "\n"
   ]
  },
  {
   "cell_type": "markdown",
   "metadata": {},
   "source": [
    "### **Inference 3**: `PeixotoInference` "
   ]
  },
  {
   "cell_type": "code",
   "execution_count": null,
   "metadata": {},
   "outputs": [],
   "source": []
  },
  {
   "cell_type": "code",
   "execution_count": null,
   "metadata": {},
   "outputs": [],
   "source": [
    "print(\"Peixoto Inference\")\n",
    "\n",
    "plt.figure()\n",
    "nx.draw_networkx_nodes(# FILL)\n",
    "nx.draw_networkx_edges(graph,pos=position,width=0.1)\n",
    "plt.axis('off')\n",
    "plt.show()\n",
    "\n"
   ]
  },
  {
   "cell_type": "markdown",
   "metadata": {},
   "source": [
    "And we now plot the adjacency matrices."
   ]
  },
  {
   "cell_type": "code",
   "execution_count": null,
   "metadata": {},
   "outputs": [],
   "source": [
    "fig, (ax1, ax2, ax3, ax4) = plt.subplots(1,4,figsize=(10,6))\n",
    "\n",
    "ax1.matshow(nx.to_numpy_matrix(graph, nodelist=ordered_nodelist(# FILL)\n",
    "ax2.matshow(nx.to_numpy_matrix(graph, nodelist=ordered_nodelist(# FILL)\n",
    "ax3.matshow(nx.to_numpy_matrix(graph, nodelist=ordered_nodelist(# FILL)\n",
    "ax4.matshow(nx.to_numpy_matrix(graph, nodelist=ordered_nodelist(# FILL)\n",
    "\n",
    "ax1.set_title('MH SBM')\n",
    "ax2.set_title('MH DC-SBM')\n",
    "ax3.set_title('Peixoto SBM')\n",
    "ax4.set_title('Peixoto DC-SBM')\n",
    "\n",
    "ax1.axis('off')\n",
    "ax2.axis('off')\n",
    "ax3.axis('off')\n",
    "ax4.axis('off')"
   ]
  },
  {
   "cell_type": "markdown",
   "metadata": {},
   "source": [
    "Compare now the affinity matrices $\\mathbf{C}$."
   ]
  },
  {
   "cell_type": "code",
   "execution_count": null,
   "metadata": {},
   "outputs": [],
   "source": [
    "fig, (ax1, ax2) = plt.subplots(1,2,figsize=(10,6))\n",
    "im1=ax1.matshow(# FILL.block_edges)\n",
    "im2=ax2.matshow(# FILL.block_edges)\n",
    "fig.colorbar(im1, ax=ax1)\n",
    "fig.colorbar(im2, ax=ax2)"
   ]
  },
  {
   "cell_type": "code",
   "execution_count": null,
   "metadata": {},
   "outputs": [],
   "source": []
  }
 ],
 "metadata": {
  "kernelspec": {
   "display_name": "Python 3",
   "language": "python",
   "name": "python3"
  },
  "language_info": {
   "codemirror_mode": {
    "name": "ipython",
    "version": 3
   },
   "file_extension": ".py",
   "mimetype": "text/x-python",
   "name": "python",
   "nbconvert_exporter": "python",
   "pygments_lexer": "ipython3",
   "version": "3.7.2"
  }
 },
 "nbformat": 4,
 "nbformat_minor": 1
}
