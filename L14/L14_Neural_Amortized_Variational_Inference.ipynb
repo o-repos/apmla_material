{
 "cells": [
  {
   "cell_type": "markdown",
   "metadata": {},
   "source": [
    "# Tutorial: Amortized Neural Variational Inference for a toy probabilistic model\n",
    "\n",
    "\n",
    "In this exercise, we will generate synthetic data and then we will use it to learn how to apply Stochastic Gradient Descent (SGD) and Amortized Variational Inference with neural networks.  We will use the package `pytorch`, which allow us to perform automatic differentiation."
   ]
  },
  {
   "cell_type": "markdown",
   "metadata": {},
   "source": [
    "## Problem definition\n",
    "\n",
    "Consider a certain number of sensors  placed at known locations, $\\mathbf{s}_1,\\mathbf{s}_2,\\ldots,\\mathbf{s}_L$. There is a target at an unknown position $\\mathbf{z}\\in\\mathbb{R}^2$ that is emitting a certain signal that is received at the $i$-th sensor with a signal strength distributed as follows:\n",
    "\n",
    "\\begin{align}\n",
    "x_i \\sim \\mathcal{N}\\Big(- A \\log\\left(||\\mathbf{s}_i-\\mathbf{z} ||^2\\right), \\sigma^2\\Big),\n",
    "\\end{align}\n",
    "\n",
    "where $A$ is a constant related to how fast signal strength degrades with distance. We assume a Gaussian prior for the unknown position $\\mathcal{N}(\\mathbf{0},\\mathbf{I})$. Given a set of $N$ i.i.d. samples for each sensor, $\\mathbf{X}\\in\\mathbb{R}^{L\\times N}$, we will use a **Amortized Neural Variational Inference** to find a Gaussian approximation to \n",
    "\n",
    "\\begin{align}\n",
    "p(\\mathbf{z}|\\mathbf{X}) \\propto  p(\\mathbf{X}|\\mathbf{z}) p(\\mathbf{z})\n",
    "\\end{align}\n",
    "\n",
    "Our approximation to $p(\\mathbf{z}|\\mathbf{X})$ is of the form\n",
    "\\begin{align}\n",
    "p(\\mathbf{z}|\\mathbf{X}) \\approx q(\\mathbf{z}|\\mathbf{X})=\\mathcal{N}\\Big(\\mu(\\mathbf{X}),\\Sigma(\\mathbf{X})\\Big),\n",
    "\\end{align}\n",
    "where\n",
    "\n",
    "- $\\mu(\\mathbf{X})$ --> Given by a Neural Network with parameter vector $\\theta$ and input $\\mathbf{X}$\n",
    "\n",
    "- $\\Sigma(\\mathbf{X})$ --> Diagonal covariance matrix, where the log of the main diagonal is constructed by a Neural Network with parameter vector $\\gamma$ and input $\\mathbf{X}$\n",
    "\n",
    "**Note:**  $\\mathbf{X}$ is reshaped into a $L\\times N$ to input both $\\mu(\\mathbf{X})$ and $\\Sigma(\\mathbf{X})$"
   ]
  },
  {
   "cell_type": "markdown",
   "metadata": {},
   "source": [
    "## ELBO lower-bound to $p(\\mathbf{X})$\n",
    "\n",
    "We will optimize $q(\\mathbf{z}|\\mathbf{X})$ w.r.t. $\\theta,\\gamma$ by optimizing the Evidence-Lower-Bound (ELBO):\n",
    "\n",
    "\\begin{align}\n",
    "p(\\mathbf{X}) &= \\int p(\\mathbf{X}|\\mathbf{z}) p(\\mathbf{z}) d\\mathbf{z}\\\\\n",
    "&\\geq \\int q(\\mathbf{X}|\\mathbf{z}) \\log \\left(\\frac{p(\\mathbf{X},\\mathbf{z})}{q(\\mathbf{X}|\\mathbf{z})}\\right)d\\mathbf{z}\\\\\n",
    "& = \\mathbb{E}_{q}\\left[\\log  p(\\mathbf{X}|\\mathbf{z})\\right] - D_{KL}(q(\\mathbf{z}|\\mathbf{X})||p(\\mathbf{z}))\\triangleq \\mathcal{L}(\\mathbf{X},\\theta,\\gamma),\n",
    "\\end{align}\n",
    "where $D_{KL}(q(\\mathbf{z}|\\mathbf{X})||p(\\mathbf{z}))$ is known in closed form since it is the KL divergence between two Gaussian pdfs:\n",
    "\n",
    "\\begin{align}\n",
    "D_{KL}(q(\\mathbf{z}|\\mathbf{X})||p(\\mathbf{z})) = \\frac{1}{2} \\left[\\text{tr}\\left(\\Sigma(\\mathbf{X})\\right)+\\left(\\mu(\\mathbf{X})^T\\mu(\\mathbf{X})\\right)-2-\\log\\det \\left(\\Sigma(\\mathbf{X})\\right) \\right]\n",
    "\\end{align}\n",
    "\n",
    "## SGD optimization\n",
    "\n",
    "- Sample $\\mathbf{\\epsilon}\\sim \\mathcal{N}(\\mathbf{0},\\mathbf{I})$\n",
    "- Sample from $q(\\mathbf{z}|\\mathbf{X})$ using reparameterization trick:\n",
    "\\begin{align}\n",
    "\\mathbf{z}^0 = \\mu(\\mathbf{X}) + \\sqrt{\\text{diag}(\\Sigma(\\mathbf{X}))} \\circ \\mathbf{\\epsilon}\n",
    "\\end{align}\n",
    "- Compute gradients of \n",
    "\\begin{align}\n",
    "\\hat{\\mathcal{L}}(\\mathbf{X},\\theta,\\gamma) =\\log  p(\\mathbf{X}|\\mathbf{z}^0) - D_{KL}\\left(q(\\mathbf{z}|\\mathbf{X})||p(\\mathbf{z})\\right)\n",
    "\\end{align}\n",
    "w.r.t. $\\theta,\\gamma$. Note that, since the whole sample matrix is reshaped into a $L\\times N$ to input both $\\mu(\\mathbf{X})$ and $\\Sigma(\\mathbf{X})$, in this toy example **we do not use minibatches**! \n",
    "\n",
    "\n"
   ]
  },
  {
   "cell_type": "code",
   "execution_count": 1,
   "metadata": {},
   "outputs": [
    {
     "name": "stdout",
     "output_type": "stream",
     "text": [
      "PyTorch version: 1.4.0\n"
     ]
    }
   ],
   "source": [
    "import matplotlib.pyplot as plt\n",
    "import numpy as np\n",
    "import torch\n",
    "from torch import nn\n",
    "from torch.distributions import MultivariateNormal\n",
    "\n",
    "%matplotlib inline\n",
    "\n",
    "# use seaborn plotting defaults\n",
    "import seaborn as sns; sns.set()\n",
    "print('PyTorch version: {}'.format(torch.__version__))"
   ]
  },
  {
   "cell_type": "markdown",
   "metadata": {},
   "source": [
    "### Probabilistic model definition and generating samples"
   ]
  },
  {
   "cell_type": "code",
   "execution_count": 2,
   "metadata": {},
   "outputs": [],
   "source": [
    "############## Elements of the true probabilistic model ####################\n",
    "\n",
    "loc_info = {}                           \n",
    "\n",
    "# Number o sensors\n",
    "loc_info['L'] = 3 \n",
    "\n",
    "# Dimension of the unkown: the position of the target\n",
    "loc_info['z_dim'] = 2 \n",
    "\n",
    "#Position of sensors\n",
    "loc_info['pos_s'] = np.array([[0.5,1], [3.5,1], [2,3]]).astype(np.float32) \n",
    "\n",
    "# Target position (This is what we try to infer)\n",
    "loc_info['target'] = np.array([4.75,2]).astype(np.float32)  \n",
    "\n",
    "#Variance of sensors (parameter sigma^2 in the probabilistic model)\n",
    "loc_info['var_s'] = 5.*np.ones(loc_info['L']).reshape([loc_info['L'],1]).astype(np.float32) \n",
    "\n",
    "#Attenuation factor per sensor (parameter A in the probabilistic model)\n",
    "loc_info['A'] = 10.0*np.ones(loc_info['L'],dtype=np.float32)\n",
    "\n",
    "# Number of measurements per sensor\n",
    "loc_info['N'] = 5 \n",
    "\n",
    "\n",
    "hidden_dim = 50"
   ]
  },
  {
   "cell_type": "markdown",
   "metadata": {},
   "source": [
    "The object 'Generator' will represent the **known** generative model "
   ]
  },
  {
   "cell_type": "code",
   "execution_count": 3,
   "metadata": {},
   "outputs": [],
   "source": [
    "class Generator:\n",
    "    def __init__(self, pos_s, z_dim=2, A=10.0, var_s=5.0):\n",
    "        self.L = pos_s.shape[0]\n",
    "        self.z_dim = z_dim\n",
    "\n",
    "        # Position of sensors\n",
    "        self.pos_s = pos_s\n",
    "\n",
    "        # Variance of sensors (parameter sigma^2 in the probabilistic model)\n",
    "        self.var_s = var_s*np.ones(self.L).reshape([self.L,1]).astype(np.float32)\n",
    "\n",
    "\n",
    "        # Attenuation factor per sensor (parameter A in the probabilistic model)\n",
    "        self.A = A * np.ones(self.L, dtype=np.float32)\n",
    "\n",
    "\n",
    "    def sample(self,z,  N):\n",
    "        means = -1 * self.A * np.log(np.sum((self.pos_s - z) ** 2, 1))\n",
    "\n",
    "        X = means.reshape([self.L, 1]) + np.random.randn(self.L, N) * np.sqrt(self.var_s)\n",
    "\n",
    "        return X\n",
    "\n",
    "    def evaluate(self,x, z_sample):\n",
    "        mean_diff = torch.from_numpy(self.pos_s) - z_sample\n",
    "        means = (-torch.from_numpy(self.A) * torch.log(torch.sum(mean_diff ** 2, 1)))\n",
    "\n",
    "        # Unnormalized likelihood\n",
    "        x_res = x.reshape([self.L, -1])\n",
    "        log_lik = -0.5 * (x_res - means.reshape([-1, 1])) ** 2 / torch.from_numpy(self.var_s)\n",
    "\n",
    "        # Normalizing constant (not important for inference)\n",
    "        log_lik += -0.5 * torch.log(2*np.pi*torch.from_numpy(self.var_s))\n",
    "\n",
    "        log_lik = torch.sum(log_lik)\n",
    "        return log_lik\n",
    "\n",
    "\n",
    "    def evaluate_join(self,x, z, log_prior):\n",
    "        n_samples = z.shape[0]\n",
    "\n",
    "        x_torch = torch.from_numpy(x).float() if type(x) == np.ndarray else x\n",
    "        log_ll = np.zeros(n_samples)\n",
    "        for i in range(n_samples):\n",
    "            z_i = z[i,:]\n",
    "            log_ll[i] = self.evaluate(x_torch, torch.from_numpy(z_i).float()).cpu().numpy() + log_prior[i]\n",
    "\n",
    "        return log_ll\n",
    "\n",
    "\n"
   ]
  },
  {
   "cell_type": "markdown",
   "metadata": {},
   "source": [
    "For a fixed unknown target position $\\mathbf{z}$, we first obtain the matrix sample $\\mathbf{X}$. **Recall that our goal in this toy example is to infer $\\mathbf{z}$ using $\\mathbf{X}$**"
   ]
  },
  {
   "cell_type": "code",
   "execution_count": 4,
   "metadata": {},
   "outputs": [],
   "source": [
    "# Sampling from the generative model for the right target\n",
    "\n",
    "# Our goal is to infer loc_info['target'] from X\n",
    "    \n",
    "Px_z = Generator(pos_s=loc_info['pos_s'], z_dim=loc_info['z_dim'], A=loc_info['A'], var_s=loc_info['var_s'])\n",
    "\n",
    "X = Px_z.sample(z=loc_info['target'], N=loc_info['N']).astype(np.float32)"
   ]
  },
  {
   "cell_type": "markdown",
   "metadata": {},
   "source": [
    "Lets plot the 2D scenario"
   ]
  },
  {
   "cell_type": "code",
   "execution_count": 5,
   "metadata": {},
   "outputs": [
    {
     "data": {
      "text/plain": [
       "<matplotlib.legend.Legend at 0x7fadd06d5940>"
      ]
     },
     "execution_count": 5,
     "metadata": {},
     "output_type": "execute_result"
    },
    {
     "data": {
      "image/png": "[encoded data removed]",
      "text/plain": [
       "<Figure size 432x288 with 1 Axes>"
      ]
     },
     "metadata": {
      "needs_background": "light"
     },
     "output_type": "display_data"
    }
   ],
   "source": [
    "plt.plot(loc_info['pos_s'][:,0],loc_info['pos_s'][:,1],'b>',label='Sensors',ms=15)\n",
    "plt.plot(loc_info['target'][0],loc_info['target'][1],'ro',label='Target',ms=15)\n",
    "plt.legend()"
   ]
  },
  {
   "cell_type": "markdown",
   "metadata": {},
   "source": [
    "### Defintion of the NNs that define the posterior mean and covariance matrix\n",
    "\n",
    "We use a common layer and a different layer for mean and diagonal of the covariance matrix."
   ]
  },
  {
   "cell_type": "code",
   "execution_count": 6,
   "metadata": {},
   "outputs": [],
   "source": [
    "class Posterior_moments(nn.Module):\n",
    "    def __init__(self, input_dim, z_dim, hidden_dim):\n",
    "        super().__init__()\n",
    "\n",
    "        # z_dim=2 in our 2D-localization problem, but we leave\n",
    "        # as a free parameter\n",
    "\n",
    "        # Inputs to hidden layer linear transformation\n",
    "        self.hidden_mean = nn.Linear(input_dim, hidden_dim)\n",
    "\n",
    "        self.hidden_var = nn.Linear(input_dim, hidden_dim)\n",
    "\n",
    "        # Mean linear layer\n",
    "        self.output_mean = nn.Linear(hidden_dim, z_dim)\n",
    "        # Diagonal variance linear layer\n",
    "        self.output_logvar = nn.Linear(hidden_dim, z_dim)\n",
    "\n",
    "        self.activation = nn.Tanh()\n",
    "\n",
    "    def forward(self, x):\n",
    "        # Pass the input tensor through each of our operations\n",
    "\n",
    "        mean = self.output_mean(self.activation(self.hidden_mean(x)))\n",
    "\n",
    "        \"\"\"Since variance has to be a positive value, we assume\n",
    "        the network outpus the logarithm of the diagonal of the \n",
    "        covariance matrix variance\"\"\"\n",
    "\n",
    "        log_var = self.output_logvar(self.activation(self.hidden_var(x)))\n",
    "        return mean, log_var\n",
    "\n",
    "\n",
    "    def reset_parameters(self):\n",
    "        for m in self.modules():\n",
    "            if isinstance(m, nn.Linear):\n",
    "                m.weight.data.normal_(0.0, std=0.3)\n",
    "                m.bias.data.zero_()"
   ]
  },
  {
   "cell_type": "code",
   "execution_count": 7,
   "metadata": {},
   "outputs": [],
   "source": [
    "Qz_x = Posterior_moments( input_dim=loc_info['L']*loc_info['N'], \n",
    "                         z_dim=loc_info['z_dim'], \n",
    "                         hidden_dim=hidden_dim)"
   ]
  },
  {
   "cell_type": "markdown",
   "metadata": {},
   "source": [
    "### Class to evaluate the loss function (ELBO)\n",
    "\n",
    "Lets create a new class inherited that takes the likelihood function, prior distribution and posterior approximation and adds two functionalities: one to sample from $q(\\mathbf{z}|\\mathbf{X})$ and one to evaluate the ELBO"
   ]
  },
  {
   "cell_type": "code",
   "execution_count": 8,
   "metadata": {},
   "outputs": [],
   "source": [
    "class Model:\n",
    "    def __init__(self, Px_z, Pz, Qz_x):\n",
    "\n",
    "        self.Qz_x = Qz_x\n",
    "        self.Px_z = Px_z\n",
    "        self.Pz = Pz\n",
    "        \n",
    "        self.z_dim = self.Px_z.z_dim\n",
    "\n",
    "    def evaluate_log_prior(self,z):\n",
    "        if type(z) == np.ndarray:\n",
    "            log_prob = self.Pz.log_prob(torch.from_numpy(z).float())\n",
    "            return log_prob.cpu().numpy()\n",
    "        else:\n",
    "            return self.Pz.log_prob(z)\n",
    "\n",
    "\n",
    "    def get_q_params(self, x):\n",
    "        mean, log_var = self.Qz_x(x)\n",
    "        return mean.data.cpu().numpy(), log_var.data.cpu().numpy()\n",
    "    def sample_from_q(self,x):\n",
    "        mean, log_var = self.Qz_x(x)\n",
    "\n",
    "        # Sampling from q(z|x).\n",
    "        # We first sample from N(0,I)\n",
    "        # Then, scale by std vector and sum the mean\n",
    "\n",
    "        noise = torch.FloatTensor(x.shape[0], 1).normal_()\n",
    "\n",
    "        sample = mean + torch.sqrt(torch.exp(log_var)) * noise\n",
    "        return sample, mean, log_var\n",
    "\n",
    "\n",
    "    def ELBO(self, x):\n",
    "\n",
    "        z_q,  mean_q, log_var_q= self.sample_from_q(x)\n",
    "        # KL divergence ELBO regularizer\n",
    "\n",
    "        KL = -0.5 *self.z_dim + 0.5 * torch.sum(torch.exp(log_var_q) + mean_q ** 2 - log_var_q)\n",
    "\n",
    "        # Evaluate log-likelihood for the current z sample\n",
    "        # To do this we use the probabilistic model!\n",
    "\n",
    "        # Signal mean per sensor\n",
    "\n",
    "\n",
    "        log_lik = self.Px_z.evaluate(x, z_q)\n",
    "\n",
    "        ELBO_loss = log_lik - KL\n",
    "\n",
    "        return ELBO_loss, log_lik, KL\n",
    "\n",
    "\n",
    "    def load_checkpoint(self, model_dict):\n",
    "        self.Qz_x.load_state_dict(model_dict['state_dict_Qz_x'])\n",
    "        self.z_dim = self.Px_z.z_dim\n",
    "\n",
    "\n",
    "    def get_state_dict(self):\n",
    "        return {'state_dict_Qz_x': self.Qz_x.state_dict()}\n",
    "\n",
    "    def cuda(self):\n",
    "        if torch.cuda.is_available():\n",
    "            self.Qz_x.cuda()\n",
    "    def train(self):\n",
    "        self.Qz_x.train()\n",
    "\n",
    "    def eval(self):\n",
    "        self.Qz_x.eval()\n",
    "\n",
    "\n",
    "    def parameters(self):\n",
    "        params = list()\n",
    "        params.extend(self.Qz_x.parameters())\n",
    "        return params\n"
   ]
  },
  {
   "cell_type": "code",
   "execution_count": 9,
   "metadata": {},
   "outputs": [],
   "source": [
    "# The prior distribution encoder our prior knowledge about the parameters\n",
    "Pz = MultivariateNormal(torch.zeros(loc_info['z_dim']), torch.eye(loc_info['z_dim']))\n",
    "model = Model(Px_z, Pz, Qz_x)"
   ]
  },
  {
   "cell_type": "markdown",
   "metadata": {},
   "source": [
    "### Class to perform ELBO optimization\n",
    "\n",
    "Create a new class that implements a method `train_step` to perform a SGD step over the variational bound (ELBO)"
   ]
  },
  {
   "cell_type": "code",
   "execution_count": 10,
   "metadata": {},
   "outputs": [],
   "source": [
    "class VAE_STrainer:\n",
    "\n",
    "    def __init__(self, model, l_rate=2e-4, beta1=0.9, beta2=0.999):\n",
    "        self.model = model\n",
    "\n",
    "        self.optimizer = torch.optim.Adam(model.parameters(), lr=l_rate, betas=(beta1, beta2))\n",
    "\n",
    "    def train_step(self, x):\n",
    "        self.optimizer.zero_grad()\n",
    "        ELBO_loss, log_lik, KL = self.model.ELBO(x)\n",
    "        nELBO_loss = -ELBO_loss # Multiply by -1 to minimize\n",
    "        nELBO_loss.backward()\n",
    "        self.optimizer.step()\n",
    "        return ELBO_loss, log_lik, KL\n",
    "    def train(self, x, SGD_steps,print_every=4, save_every=10):\n",
    "        self.model.train()\n",
    "        for i in range(SGD_steps):\n",
    "            ELBO_loss, log_lik, KL = self.train_step(x)\n",
    "            if i % print_every == 0:\n",
    "                ELBO_loss = ELBO_loss.data.cpu().numpy()\n",
    "                log_lik = log_lik.data.cpu().numpy()\n",
    "                KL = KL.data.cpu().numpy()\n",
    "                print('Step = %d, loglik = %.5f, KL = %.5f, ELBO = %.5f' %(i,log_lik,KL,-ELBO_loss))\n",
    "\n"
   ]
  },
  {
   "cell_type": "code",
   "execution_count": 11,
   "metadata": {},
   "outputs": [],
   "source": [
    "x_train = torch.from_numpy(X.reshape([1,-1]))\n",
    "trainer = VAE_STrainer(model, l_rate=1e-2, beta1=0.7, beta2=0.999)\n"
   ]
  },
  {
   "cell_type": "markdown",
   "metadata": {},
   "source": [
    "We fix the seed for reproducibility"
   ]
  },
  {
   "cell_type": "code",
   "execution_count": 12,
   "metadata": {},
   "outputs": [
    {
     "name": "stdout",
     "output_type": "stream",
     "text": [
      "Step = 0, loglik = -412.49805, KL = 0.10865, ELBO = 412.60669\n",
      "Step = 1000, loglik = -35.21881, KL = 16.87826, ELBO = 52.09708\n",
      "Step = 2000, loglik = -34.39691, KL = 18.01141, ELBO = 52.40833\n",
      "Step = 3000, loglik = -34.55082, KL = 17.31024, ELBO = 51.86106\n",
      "Step = 4000, loglik = -34.43998, KL = 16.20131, ELBO = 50.64129\n",
      "Step = 5000, loglik = -39.89281, KL = 16.98094, ELBO = 56.87375\n",
      "Step = 6000, loglik = -34.28638, KL = 21.06064, ELBO = 55.34702\n",
      "Step = 7000, loglik = -36.47410, KL = 16.91054, ELBO = 53.38464\n",
      "Step = 8000, loglik = -34.34887, KL = 17.75402, ELBO = 52.10289\n",
      "Step = 9000, loglik = -35.24488, KL = 18.02647, ELBO = 53.27135\n"
     ]
    }
   ],
   "source": [
    "torch.manual_seed(20)\n",
    "np.random.seed(20)\n",
    "trainer.train(x_train, SGD_steps=10000, print_every=1000, save_every=10)"
   ]
  },
  {
   "cell_type": "markdown",
   "metadata": {},
   "source": [
    "### Plot the results\n",
    "\n",
    "* Get the optimal parameters of the approximated posterior distribution found during the optimization\n",
    "* Generate `nsamples` from the posterior\n",
    "* Plot the generated samples, the true position of the target and the position of the sensors"
   ]
  },
  {
   "cell_type": "code",
   "execution_count": 13,
   "metadata": {},
   "outputs": [],
   "source": [
    "nsamples = 50\n",
    "model.eval()\n",
    "q_mean, q_log_var = model.get_q_params(x_train)\n",
    "samples = q_mean + np.sqrt(np.exp(q_log_var)) * np.random.randn(nsamples,2)\n",
    "log_prior = model.evaluate_log_prior(samples)\n",
    "Plog_pxz_eval = Px_z.evaluate_join(x_train, samples, log_prior)"
   ]
  },
  {
   "cell_type": "code",
   "execution_count": 14,
   "metadata": {},
   "outputs": [
    {
     "data": {
      "image/png": "[encoded data removed]",
      "text/plain": [
       "<Figure size 1080x576 with 1 Axes>"
      ]
     },
     "metadata": {
      "needs_background": "light"
     },
     "output_type": "display_data"
    }
   ],
   "source": [
    "f = plt.figure(figsize=(15,8))\n",
    "\n",
    "ax = plt.subplot(1, 1, 1)\n",
    "ax.plot(loc_info['pos_s'][:, 0], loc_info['pos_s'][:, 1], 'b>', label='Sensors', ms=15)\n",
    "ax.plot(loc_info['target'][0], loc_info['target'][1], 'ro', label='Target', ms=15)\n",
    "ax.scatter(samples[:,0],samples[:,1],label='Post Samples')\n",
    "ax.plot(q_mean[:, 0], q_mean[:, 1], 'k>', label='Post Mean')\n",
    "ax.set_title('Amortized Variational Inference')\n",
    "ax.legend()\n",
    "\n",
    "\n",
    "plt.show()"
   ]
  },
  {
   "cell_type": "code",
   "execution_count": null,
   "metadata": {},
   "outputs": [],
   "source": []
  }
 ],
 "metadata": {
  "kernelspec": {
   "display_name": "Python 3",
   "language": "python",
   "name": "python3"
  },
  "language_info": {
   "codemirror_mode": {
    "name": "ipython",
    "version": 3
   },
   "file_extension": ".py",
   "mimetype": "text/x-python",
   "name": "python",
   "nbconvert_exporter": "python",
   "pygments_lexer": "ipython3",
   "version": "3.6.10"
  },
  "pycharm": {
   "stem_cell": {
    "cell_type": "raw",
    "source": [],
    "metadata": {
     "collapsed": false
    }
   }
  }
 },
 "nbformat": 4,
 "nbformat_minor": 2
}